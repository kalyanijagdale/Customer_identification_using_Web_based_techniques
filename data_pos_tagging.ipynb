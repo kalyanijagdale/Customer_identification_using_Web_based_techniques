{
 "cells": [
  {
   "cell_type": "code",
   "execution_count": 7,
   "metadata": {},
   "outputs": [
    {
     "name": "stderr",
     "output_type": "stream",
     "text": [
      "[nltk_data] Downloading package stopwords to\n",
      "[nltk_data]     /Users/umasreeram/nltk_data...\n",
      "[nltk_data]   Package stopwords is already up-to-date!\n",
      "[nltk_data] Downloading package wordnet to\n",
      "[nltk_data]     /Users/umasreeram/nltk_data...\n",
      "[nltk_data]   Package wordnet is already up-to-date!\n",
      "[nltk_data] Downloading package tagsets to\n",
      "[nltk_data]     /Users/umasreeram/nltk_data...\n",
      "[nltk_data]   Unzipping help/tagsets.zip.\n"
     ]
    },
    {
     "data": {
      "text/plain": [
       "True"
      ]
     },
     "execution_count": 7,
     "metadata": {},
     "output_type": "execute_result"
    }
   ],
   "source": [
    "import nltk\n",
    "nltk.download('stopwords')\n",
    "nltk.download('wordnet')\n",
    "nltk.download('tagsets')"
   ]
  },
  {
   "cell_type": "code",
   "execution_count": 3,
   "metadata": {},
   "outputs": [
    {
     "name": "stderr",
     "output_type": "stream",
     "text": [
      "[nltk_data] Downloading package punkt to\n",
      "[nltk_data]     /Users/umasreeram/nltk_data...\n",
      "[nltk_data]   Package punkt is already up-to-date!\n",
      "[nltk_data] Downloading package averaged_perceptron_tagger to\n",
      "[nltk_data]     /Users/umasreeram/nltk_data...\n",
      "[nltk_data]   Package averaged_perceptron_tagger is already up-to-\n",
      "[nltk_data]       date!\n"
     ]
    },
    {
     "data": {
      "text/plain": [
       "True"
      ]
     },
     "execution_count": 3,
     "metadata": {},
     "output_type": "execute_result"
    }
   ],
   "source": [
    "nltk.download('punkt')\n",
    "nltk.download('averaged_perceptron_tagger')"
   ]
  },
  {
   "cell_type": "code",
   "execution_count": 28,
   "metadata": {},
   "outputs": [],
   "source": [
    "import pandas as pd\n",
    "import re\n",
    "import nltk\n",
    "from nltk.corpus import stopwords\n",
    "stop_words = set(stopwords.words('english'))\n",
    "from nltk.stem.lancaster import LancasterStemmer\n",
    "from nltk.stem.wordnet import WordNetLemmatizer\n",
    "\n",
    "\n",
    "def remove_stop_words(mystr):\n",
    "    word_list= mystr.split()\n",
    "    cleaned_word_list=[w for w in word_list if w not in stop_words and len(w)>=2]\n",
    "    \n",
    "    return cleaned_word_list\n",
    "   \n",
    "    \n",
    "def join_list(wordlist):\n",
    "    \n",
    "    return \" \".join(wordlist)\n",
    "   \n"
   ]
  },
  {
   "cell_type": "code",
   "execution_count": 29,
   "metadata": {},
   "outputs": [
    {
     "name": "stdout",
     "output_type": "stream",
     "text": [
      "clean_eBay_tweets.csv\n",
      "clean_MTV_tweets_drop2.csv\n",
      "clean_nytimes_tweets_drop2.csv\n",
      "clean_ladygaga_tweets.csv\n",
      "clean_premierleague_tweets.csv\n",
      "clean_tesla_tweets_drop2.csv\n",
      "clean_tesla_tweets.csv\n",
      "clean_FoodandTravelEd_tweets.csv\n",
      "clean_ladygaga_tweets_drop2.csv\n",
      "clean_facebook_tweets.csv\n",
      "clean_parenting_tweets_drop2.csv\n",
      "clean_premierleague_tweets_drop2.csv\n",
      "clean_usedgov_tweets.csv\n",
      "clean_eBay_tweets_drop2.csv\n",
      "clean_MTV_tweets.csv\n",
      "clean_facebook_tweets_drop2.csv\n",
      "clean_parenting_tweets.csv\n",
      "clean_FoodandTravelEd_tweets_drop2.csv\n",
      "clean_nytimes_tweets.csv\n"
     ]
    }
   ],
   "source": [
    "import os\n",
    "\n",
    "goal_dir = os.path.join(os.getcwd(), \"cleaned_csv/\")\n",
    "\n",
    "\n",
    "\n",
    "for filename in os.listdir(goal_dir):\n",
    "    if filename.endswith(\".csv\"): \n",
    "         print(filename)"
   ]
  },
  {
   "cell_type": "code",
   "execution_count": 30,
   "metadata": {},
   "outputs": [],
   "source": [
    "#nltk.help.upenn_tagset()"
   ]
  },
  {
   "cell_type": "code",
   "execution_count": 33,
   "metadata": {},
   "outputs": [
    {
     "name": "stdout",
     "output_type": "stream",
     "text": [
      "clean_eBay_tweets.csv Done\n",
      "clean_MTV_tweets_drop2.csv Done\n",
      "clean_nytimes_tweets_drop2.csv Done\n",
      "clean_ladygaga_tweets.csv Done\n",
      "clean_premierleague_tweets.csv Done\n",
      "clean_tesla_tweets_drop2.csv Done\n",
      "clean_tesla_tweets.csv Done\n",
      "clean_FoodandTravelEd_tweets.csv Done\n",
      "clean_ladygaga_tweets_drop2.csv Done\n",
      "clean_facebook_tweets.csv Done\n",
      "clean_parenting_tweets_drop2.csv Done\n",
      "clean_premierleague_tweets_drop2.csv Done\n",
      "clean_usedgov_tweets.csv Done\n",
      "clean_eBay_tweets_drop2.csv Done\n",
      "clean_MTV_tweets.csv Done\n",
      "clean_facebook_tweets_drop2.csv Done\n",
      "clean_parenting_tweets.csv Done\n",
      "clean_FoodandTravelEd_tweets_drop2.csv Done\n",
      "clean_nytimes_tweets.csv Done\n"
     ]
    }
   ],
   "source": [
    "\n",
    "#NN,NNP,NNPS,NNS\n",
    "\n",
    "goal_dir = os.path.join(os.getcwd(), \"cleaned_csv/\")\n",
    "import nltk\n",
    "from nltk.tokenize import word_tokenize\n",
    "from nltk.tag import pos_tag\n",
    "\n",
    "import os\n",
    "\n",
    "def pos_tagger(sent):\n",
    "    \n",
    "    sent=nltk.pos_tag(sent)\n",
    "    return sent\n",
    "\n",
    "def return_only_nouns(wordlist):\n",
    "    nouns=[]\n",
    "    \n",
    "    for x in wordlist:\n",
    "        if x[1]=='NN' or x[1]=='NNP' or x[1]=='NNPS' or x[1]=='NNS':\n",
    "            nouns.append(x[0])\n",
    "            \n",
    "    return nouns\n",
    "    \n",
    "\n",
    "for filename in os.listdir(goal_dir):\n",
    "    if filename.endswith(\".csv\"): \n",
    "        file = pd.read_csv(\"cleaned_csv/\"+filename)\n",
    "        #print(type(file['cleaned_word_list'].iloc[1]))\n",
    "        \n",
    "        file = file[file['cleaned_word_list'].notnull()]\n",
    "        \n",
    "        file['all_words']=file['cleaned_word_list'].apply(lambda x:x.split())\n",
    "        \n",
    "\n",
    "        file['pos_tags_all_words']=file['all_words'].apply(pos_tagger)  \n",
    "        \n",
    "        file['nouns']=file['pos_tags_all_words'].apply(return_only_nouns)\n",
    "        \n",
    "        file['cleaned_word_list_nouns']=file['nouns'].apply(join_list)\n",
    "        \n",
    "        del file['created_at']\n",
    "        del file['text']\n",
    "        del file['clean_text']\n",
    "        \n",
    "        del file['pos_tags_all_words']\n",
    "        del file['nouns']\n",
    "        del file['all_words']\n",
    "        \n",
    "        file.to_csv(r'pos_csv/pos_'+filename, encoding='utf-8')\n",
    "\n",
    "\n",
    "\n",
    "    print(filename,\"Done\")\n"
   ]
  },
  {
   "cell_type": "code",
   "execution_count": null,
   "metadata": {},
   "outputs": [],
   "source": []
  }
 ],
 "metadata": {
  "kernelspec": {
   "display_name": "Python 3",
   "language": "python",
   "name": "python3"
  },
  "language_info": {
   "codemirror_mode": {
    "name": "ipython",
    "version": 3
   },
   "file_extension": ".py",
   "mimetype": "text/x-python",
   "name": "python",
   "nbconvert_exporter": "python",
   "pygments_lexer": "ipython3",
   "version": "3.7.4"
  }
 },
 "nbformat": 4,
 "nbformat_minor": 2
}
