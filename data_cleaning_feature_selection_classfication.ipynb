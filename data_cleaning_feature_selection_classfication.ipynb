{
 "cells": [
  {
   "cell_type": "code",
   "execution_count": 6,
   "metadata": {},
   "outputs": [
    {
     "name": "stderr",
     "output_type": "stream",
     "text": [
      "[nltk_data] Downloading package stopwords to\n",
      "[nltk_data]     C:\\Users\\rishi\\AppData\\Roaming\\nltk_data...\n",
      "[nltk_data]   Package stopwords is already up-to-date!\n",
      "[nltk_data] Downloading package wordnet to\n",
      "[nltk_data]     C:\\Users\\rishi\\AppData\\Roaming\\nltk_data...\n",
      "[nltk_data]   Package wordnet is already up-to-date!\n"
     ]
    },
    {
     "data": {
      "text/plain": [
       "True"
      ]
     },
     "execution_count": 6,
     "metadata": {},
     "output_type": "execute_result"
    }
   ],
   "source": [
    "import nltk\n",
    "nltk.download('stopwords')\n",
    "nltk.download('wordnet')"
   ]
  },
  {
   "cell_type": "markdown",
   "metadata": {},
   "source": [
    "__Creating functions to clean tweets__"
   ]
  },
  {
   "cell_type": "code",
   "execution_count": 7,
   "metadata": {},
   "outputs": [],
   "source": [
    "from sklearn.feature_extraction.text import TfidfVectorizer\n",
    "import pandas as pd\n",
    "import re\n",
    "import nltk\n",
    "from nltk.corpus import stopwords\n",
    "stop_words = set(stopwords.words('english'))\n",
    "from nltk.stem.lancaster import LancasterStemmer\n",
    "from nltk.stem.wordnet import WordNetLemmatizer\n",
    "\n",
    "\n",
    "\n",
    "\n",
    "def stem_words(words):\n",
    "    \"\"\"Stem words in list of tokenized words\"\"\"\n",
    "    stemmer = LancasterStemmer()\n",
    "    stems = []\n",
    "    for word in words:\n",
    "        stem = stemmer.stem(word)\n",
    "        stems.append(stem)\n",
    "    return stems\n",
    "\n",
    "def lemmatize_verbs(words):\n",
    "    \"\"\"Lemmatize verbs in list of tokenized words\"\"\"\n",
    "    lemmatizer = WordNetLemmatizer()\n",
    "    lemmas = []\n",
    "    for word in words:\n",
    "        lemma = lemmatizer.lemmatize(word, pos='v')\n",
    "        lemmas.append(lemma)\n",
    "    return lemmas\n",
    "\n",
    "def stem_and_lemmatize(words):\n",
    "    stems = stem_words(words)\n",
    "    return \" \".join(stems)\n",
    "    lemmas = lemmatize_verbs(stems)\n",
    "    return \" \".join(lemmas)\n",
    "\n",
    "\n",
    "\n",
    "\n",
    "def clean_string(mystr):\n",
    "    mystr=mystr.lower()\n",
    "    mystr=re.sub(r\"\\\\\\w+\", \" \", mystr)\n",
    "    mystr=re.sub(r\"\\@\\w+\",\" \",mystr)\n",
    "    mystr=re.sub(r\"\\#\\w+\",\" \",mystr)\n",
    "    mystr=re.sub(r\"https?:\\/\\/(www\\.)?[-a-zA-Z0-9@:%._\\+~#=]{1,256}\\.[a-zA-Z0-9()]{1,6}\\b([-a-zA-Z0-9()@:%_\\+.~#?&//=]*)\",\" \",mystr)\n",
    "    \n",
    "    mystr=mystr[2:-1]\n",
    "    \n",
    "    cleantext = \"\".join([x.lower() if (x.isalpha() or x.isspace()) else ' ' for x in mystr])\n",
    "    \n",
    "    return cleantext\n",
    "\n",
    "def remove_stop_words(mystr):\n",
    "    word_list= mystr.split()\n",
    "    cleaned_word_list=[w for w in word_list if w not in stop_words and len(w)>=2]\n",
    "    \n",
    "    return cleaned_word_list\n",
    "   \n",
    "    \n",
    "\n",
    "   \n"
   ]
  },
  {
   "cell_type": "markdown",
   "metadata": {},
   "source": [
    "__Reading files containing tweets__"
   ]
  },
  {
   "cell_type": "code",
   "execution_count": 8,
   "metadata": {},
   "outputs": [
    {
     "name": "stdout",
     "output_type": "stream",
     "text": [
      "eBay_tweets.csv\n",
      "eBay_tweets_drop2.csv\n",
      "facebook_tweets.csv\n",
      "facebook_tweets_drop2.csv\n",
      "FoodandTravelEd_tweets.csv\n",
      "FoodandTravelEd_tweets_drop2.csv\n",
      "ladygaga_tweets.csv\n",
      "ladygaga_tweets_drop2.csv\n",
      "MTV_tweets.csv\n",
      "MTV_tweets_drop2.csv\n",
      "nytimes_tweets.csv\n",
      "nytimes_tweets_drop2.csv\n",
      "parenting_tweets.csv\n",
      "parenting_tweets_drop2.csv\n",
      "premierleague_tweets.csv\n",
      "premierleague_tweets_drop2.csv\n",
      "tesla_tweets.csv\n",
      "tesla_tweets_drop2.csv\n",
      "usedgov_tweets.csv\n",
      "usedgov_tweets_drop2.csv\n"
     ]
    }
   ],
   "source": [
    "\n",
    "import os\n",
    "goal_dir = os.path.join(os.getcwd(), \"tweets_raw/\")\n",
    "\n",
    "for filename in os.listdir(goal_dir):\n",
    "    if filename.endswith(\".csv\"): \n",
    "         print(filename)"
   ]
  },
  {
   "cell_type": "markdown",
   "metadata": {},
   "source": [
    "__Creating tfidf matrix for every user account__"
   ]
  },
  {
   "cell_type": "code",
   "execution_count": 81,
   "metadata": {},
   "outputs": [],
   "source": [
    "from numpy import asarray\n",
    "from numpy import savetxt\n",
    "import numpy as np\n",
    "        \n",
    "goal_dir = os.path.join(os.getcwd(), \"tweets_raw/\")\n",
    "\n",
    "import os\n",
    "\n",
    "dataframes = {}\n",
    "\n",
    "for filename in os.listdir(goal_dir):\n",
    "    if filename.endswith(\".csv\"): \n",
    "        file = pd.read_csv(\"tweets_raw/\"+filename)\n",
    "        file['clean_text']=file['text'].apply(clean_string)\n",
    "        file['word list']=file['clean_text'].apply(remove_stop_words)\n",
    "        file['cleaned_word_list']=file['word list'].apply(stem_and_lemmatize)\n",
    "        \n",
    "        del file['word list']\n",
    "\n",
    "        vectorizer = TfidfVectorizer()\n",
    "        tfidfmatrix = vectorizer.fit_transform(file['cleaned_word_list'])\n",
    "\n",
    "        vocab = vectorizer.get_feature_names()\n",
    "        tfidf_data=tfidfmatrix.toarray()\n",
    "        \n",
    "        tfidf_pd=pd.DataFrame(data=tfidf_data,columns=vocab,index=file['id'])\n",
    "        \n",
    "        dataframes[filename] = tfidf_pd       \n",
    "\n"
   ]
  },
  {
   "cell_type": "code",
   "execution_count": 10,
   "metadata": {},
   "outputs": [
    {
     "data": {
      "text/plain": [
       "dict_keys(['eBay_tweets.csv', 'eBay_tweets_drop2.csv', 'facebook_tweets.csv', 'facebook_tweets_drop2.csv', 'FoodandTravelEd_tweets.csv', 'FoodandTravelEd_tweets_drop2.csv', 'ladygaga_tweets.csv', 'ladygaga_tweets_drop2.csv', 'MTV_tweets.csv', 'MTV_tweets_drop2.csv', 'nytimes_tweets.csv', 'nytimes_tweets_drop2.csv', 'parenting_tweets.csv', 'parenting_tweets_drop2.csv', 'premierleague_tweets.csv', 'premierleague_tweets_drop2.csv', 'tesla_tweets.csv', 'tesla_tweets_drop2.csv', 'usedgov_tweets.csv', 'usedgov_tweets_drop2.csv'])"
      ]
     },
     "execution_count": 10,
     "metadata": {},
     "output_type": "execute_result"
    }
   ],
   "source": [
    "dataframes.keys()"
   ]
  },
  {
   "cell_type": "code",
   "execution_count": 11,
   "metadata": {},
   "outputs": [],
   "source": [
    "tesla_tfidf = dataframes['tesla_tweets.csv']\n",
    "tesla_tfidf_2 = dataframes['tesla_tweets_drop2.csv']"
   ]
  },
  {
   "cell_type": "code",
   "execution_count": 12,
   "metadata": {},
   "outputs": [],
   "source": [
    "ebday_tfidf = dataframes['eBay_tweets.csv']\n",
    "fb_tfidf = dataframes['facebook_tweets.csv']\n",
    "fnt_tfidf = dataframes['FoodandTravelEd_tweets.csv']\n",
    "gaga_tfidf = dataframes['ladygaga_tweets.csv']\n",
    "mtv_tfidf = dataframes['MTV_tweets.csv']\n",
    "parenting_tfidf = dataframes['parenting_tweets.csv']\n",
    "fpl_tfidf = dataframes['premierleague_tweets.csv']\n",
    "gov_tfidf = dataframes['usedgov_tweets.csv']\n",
    "nyt_tfidf = dataframes['nytimes_tweets.csv']\n",
    "\n",
    "ebday_tfidf_2 = dataframes['eBay_tweets_drop2.csv']\n",
    "fb_tfidf_2 = dataframes['facebook_tweets_drop2.csv']\n",
    "fnt_tfidf_2 = dataframes['FoodandTravelEd_tweets_drop2.csv']\n",
    "gaga_tfidf_2 = dataframes['ladygaga_tweets_drop2.csv']\n",
    "mtv_tfidf_2 = dataframes['MTV_tweets_drop2.csv']\n",
    "parenting_tfidf_2 = dataframes['parenting_tweets_drop2.csv']\n",
    "fpl_tfidf_2 = dataframes['premierleague_tweets_drop2.csv']\n",
    "gov_tfidf_2 = dataframes['usedgov_tweets_drop2.csv']\n",
    "nyt_tfidf_2 = dataframes['nytimes_tweets_drop2.csv']"
   ]
  },
  {
   "cell_type": "markdown",
   "metadata": {},
   "source": [
    "__Setting appropriate labels__"
   ]
  },
  {
   "cell_type": "code",
   "execution_count": 13,
   "metadata": {},
   "outputs": [],
   "source": [
    "tesla_tfidf['label'] = 1\n",
    "tesla_tfidf_2['label'] = 1"
   ]
  },
  {
   "cell_type": "code",
   "execution_count": 14,
   "metadata": {},
   "outputs": [],
   "source": [
    "fb_tfidf['label'] = 0\n",
    "fnt_tfidf['label'] = 0\n",
    "ebday_tfidf['label'] = 0\n",
    "gaga_tfidf['label'] = 0\n",
    "mtv_tfidf['label'] = 0\n",
    "nyt_tfidf['label'] = 0\n",
    "parenting_tfidf['label'] = 0\n",
    "fpl_tfidf['label'] = 0\n",
    "gov_tfidf['label'] = 0\n",
    "\n",
    "fb_tfidf_2['label'] = 0\n",
    "fnt_tfidf_2['label'] = 0\n",
    "ebday_tfidf_2['label'] = 0\n",
    "gaga_tfidf_2['label'] = 0\n",
    "mtv_tfidf_2['label'] = 0\n",
    "nyt_tfidf_2['label'] = 0\n",
    "parenting_tfidf_2['label'] = 0\n",
    "fpl_tfidf_2['label'] = 0\n",
    "gov_tfidf_2['label'] = 0"
   ]
  },
  {
   "cell_type": "markdown",
   "metadata": {},
   "source": [
    "__Combining all tfidf matrices__"
   ]
  },
  {
   "cell_type": "code",
   "execution_count": 15,
   "metadata": {},
   "outputs": [
    {
     "name": "stderr",
     "output_type": "stream",
     "text": [
      "C:\\Users\\rishi\\AppData\\Local\\Continuum\\anaconda3\\lib\\site-packages\\ipykernel_launcher.py:1: FutureWarning: Sorting because non-concatenation axis is not aligned. A future version\n",
      "of pandas will change to not sort by default.\n",
      "\n",
      "To accept the future behavior, pass 'sort=False'.\n",
      "\n",
      "To retain the current behavior and silence the warning, pass 'sort=True'.\n",
      "\n",
      "  \"\"\"Entry point for launching an IPython kernel.\n"
     ]
    }
   ],
   "source": [
    "vertical_stack = pd.concat([tesla_tfidf, fb_tfidf,fnt_tfidf,ebday_tfidf,gaga_tfidf,mtv_tfidf,parenting_tfidf,fpl_tfidf,gov_tfidf,nyt_tfidf,tesla_tfidf_2, fb_tfidf_2,fnt_tfidf_2,ebday_tfidf_2,gaga_tfidf_2,mtv_tfidf_2,parenting_tfidf_2,fpl_tfidf_2,gov_tfidf_2,nyt_tfidf_2], axis=0)\n",
    "vertical_stack = vertical_stack.fillna(0)"
   ]
  },
  {
   "cell_type": "code",
   "execution_count": null,
   "metadata": {},
   "outputs": [],
   "source": [
    "vertical_stack.shape"
   ]
  },
  {
   "cell_type": "code",
   "execution_count": 16,
   "metadata": {},
   "outputs": [],
   "source": [
    "vertical_stack=vertical_stack.drop_duplicates().reset_index(drop=True)\n",
    "y = vertical_stack['label']\n",
    "vertical_stack = vertical_stack.drop('label', 1)"
   ]
  },
  {
   "cell_type": "code",
   "execution_count": null,
   "metadata": {},
   "outputs": [],
   "source": [
    "vertical_stack.shape"
   ]
  },
  {
   "cell_type": "markdown",
   "metadata": {},
   "source": [
    "__Performing Chi-square for variable selection__"
   ]
  },
  {
   "cell_type": "code",
   "execution_count": 27,
   "metadata": {},
   "outputs": [],
   "source": [
    "from sklearn.feature_selection import chi2"
   ]
  },
  {
   "cell_type": "code",
   "execution_count": null,
   "metadata": {},
   "outputs": [],
   "source": [
    "chi2score = chi2(vertical_stack, y)"
   ]
  },
  {
   "cell_type": "code",
   "execution_count": null,
   "metadata": {},
   "outputs": [],
   "source": [
    "import matplotlib. pyplot as plt\n",
    "plt.figure(figsize=(15,10))\n",
    "wscores = zip(vertical_stack.columns, chi2score[0])\n",
    "wchi2 = sorted(wscores, key=lambda x:x[1])\n",
    "topchi2 = list(zip(*wchi2[-50:]))\n",
    "x = range(len(topchi2[1]))\n",
    "labels = topchi2[0]\n",
    "plt.barh(x,topchi2[1], align='center', alpha=0.2)\n",
    "plt.plot(topchi2[1], x, '-o', markersize=5, alpha=0.8)\n",
    "plt.yticks(x, labels)\n",
    "plt.xlabel('$\\chi^2$')"
   ]
  },
  {
   "cell_type": "markdown",
   "metadata": {},
   "source": [
    "__Splitting data into Training and Testing Data__"
   ]
  },
  {
   "cell_type": "code",
   "execution_count": 52,
   "metadata": {},
   "outputs": [],
   "source": [
    "from sklearn.model_selection import train_test_split\n",
    "X_train, X_test, y_train, y_test = train_test_split(vertical_stack, y, test_size=0.20)"
   ]
  },
  {
   "cell_type": "code",
   "execution_count": 53,
   "metadata": {},
   "outputs": [],
   "source": [
    "from collections import Counter\n",
    "counter_train = Counter(y_train)\n",
    "counter_test = Counter(y_test)"
   ]
  },
  {
   "cell_type": "markdown",
   "metadata": {},
   "source": [
    "__Oversampling test data__"
   ]
  },
  {
   "cell_type": "code",
   "execution_count": null,
   "metadata": {},
   "outputs": [],
   "source": [
    "conda install -c glemaitre imbalanced-learn"
   ]
  },
  {
   "cell_type": "code",
   "execution_count": 17,
   "metadata": {},
   "outputs": [],
   "source": [
    "from imblearn import under_sampling, over_sampling\n",
    "from imblearn.over_sampling import SMOTE"
   ]
  },
  {
   "cell_type": "code",
   "execution_count": 18,
   "metadata": {},
   "outputs": [],
   "source": [
    "oversample = SMOTE()"
   ]
  },
  {
   "cell_type": "code",
   "execution_count": 65,
   "metadata": {},
   "outputs": [],
   "source": [
    "X_new, y_new = oversample.fit_resample(X_train, y_train)"
   ]
  },
  {
   "cell_type": "markdown",
   "metadata": {},
   "source": [
    "Feature Selection using results from Chi-square"
   ]
  },
  {
   "cell_type": "code",
   "execution_count": 83,
   "metadata": {},
   "outputs": [],
   "source": [
    "X_select = X_new[vertical_stack.columns[np.argsort(chi2score[0])[::-1]][:1000]]"
   ]
  },
  {
   "cell_type": "code",
   "execution_count": 84,
   "metadata": {},
   "outputs": [
    {
     "data": {
      "text/plain": [
       "(79400, 1000)"
      ]
     },
     "execution_count": 84,
     "metadata": {},
     "output_type": "execute_result"
    }
   ],
   "source": [
    "X_select.shape"
   ]
  },
  {
   "cell_type": "code",
   "execution_count": 85,
   "metadata": {},
   "outputs": [],
   "source": [
    "from sklearn.ensemble import AdaBoostClassifier\n",
    "from sklearn.tree import DecisionTreeClassifier\n",
    "from sklearn.datasets import load_breast_cancer\n",
    "import pandas as pd\n",
    "import numpy as np\n",
    "from sklearn.model_selection import train_test_split\n",
    "from sklearn.metrics import confusion_matrix\n",
    "from sklearn.preprocessing import LabelEncoder"
   ]
  },
  {
   "cell_type": "markdown",
   "metadata": {},
   "source": [
    "__Classification and prediction__"
   ]
  },
  {
   "cell_type": "code",
   "execution_count": null,
   "metadata": {},
   "outputs": [],
   "source": [
    "classifier = AdaBoostClassifier(\n",
    "    DecisionTreeClassifier(max_depth=3),\n",
    "    n_estimators=200\n",
    ")\n",
    "classifier.fit(X_select, y_new)"
   ]
  },
  {
   "cell_type": "code",
   "execution_count": null,
   "metadata": {},
   "outputs": [],
   "source": [
    "predictions = classifier.predict(X_test[vertical_stack.columns[np.argsort(chi2score[0])[::-1]][:1000]])"
   ]
  },
  {
   "cell_type": "code",
   "execution_count": null,
   "metadata": {},
   "outputs": [],
   "source": [
    "confusion_matrix(y_test, predictions)\n"
   ]
  },
  {
   "cell_type": "code",
   "execution_count": null,
   "metadata": {},
   "outputs": [],
   "source": [
    "from sklearn.metrics import f1_score\n",
    "f1_score(y_test, predictions, average='binary')"
   ]
  },
  {
   "cell_type": "markdown",
   "metadata": {},
   "source": [
    "__Extras__"
   ]
  },
  {
   "cell_type": "code",
   "execution_count": null,
   "metadata": {},
   "outputs": [],
   "source": [
    "X_new.to_csv('X_train_oversampled.csv', index = False, header=True)\n",
    "y_new.to_csv('y_train_oversampled.csv', index = False, header=True)\n",
    "X_test.to_csv('X_test.csv', index = False, header=True)\n",
    "y_test.to_csv('y_test.csv', index = False, header=True)"
   ]
  },
  {
   "cell_type": "code",
   "execution_count": 79,
   "metadata": {},
   "outputs": [
    {
     "data": {
      "text/plain": [
       "(44204, 1000)"
      ]
     },
     "execution_count": 79,
     "metadata": {},
     "output_type": "execute_result"
    }
   ],
   "source": [
    "X_select.shape"
   ]
  },
  {
   "cell_type": "code",
   "execution_count": null,
   "metadata": {},
   "outputs": [],
   "source": [
    "goal_dir = os.path.join(os.getcwd(), \"tweets_of_teslafollowers/\")\n",
    "\n",
    "import os\n",
    "\n",
    "tesla_followers = {}\n",
    "\n",
    "for filename in os.listdir(goal_dir):\n",
    "    if filename.endswith(\".csv\"): \n",
    "        file = pd.read_csv(\"tweets_of_teslafollowers/\"+filename)\n",
    "        file['clean_text']=file['text'].apply(clean_string)\n",
    "        file['word list']=file['clean_text'].apply(remove_stop_words)\n",
    "        file['cleaned_word_list']=file['word list'].apply(stem_and_lemmatize)\n",
    "        \n",
    "        del file['word list']\n",
    "\n",
    "        vectorizer = TfidfVectorizer()\n",
    "        try:\n",
    "            tfidfmatrix = vectorizer.fit_transform(file['cleaned_word_list'])\n",
    "            vocab = vectorizer.get_feature_names()\n",
    "            tfidf_data=tfidfmatrix.toarray()\n",
    "            tfidf_pd=pd.DataFrame(data=tfidf_data,columns=vocab,index=file['id'])\n",
    "            tfidf_pd = tfidf_pd.drop(tfidf_pd.columns.difference(vertical_stack.columns[np.argsort(chi2score[0])[::-1]][:5000]),1)\n",
    "            tesla_followers[filename] = tfidf_pd     \n",
    "        except:\n",
    "            print(file['cleaned_word_list'])\n",
    "\n",
    "        "
   ]
  },
  {
   "cell_type": "code",
   "execution_count": null,
   "metadata": {},
   "outputs": [],
   "source": [
    "tesla_followers"
   ]
  },
  {
   "cell_type": "code",
   "execution_count": null,
   "metadata": {},
   "outputs": [],
   "source": [
    "for i in tesla_followers.values():\n",
    "    print(i.shape)"
   ]
  },
  {
   "cell_type": "code",
   "execution_count": null,
   "metadata": {},
   "outputs": [],
   "source": [
    "file['clean_text']"
   ]
  },
  {
   "cell_type": "code",
   "execution_count": null,
   "metadata": {},
   "outputs": [],
   "source": [
    "tfidf_pd.columns.difference(vertical_stack.columns[np.argsort(chi2score[0])[::-1]][:2500])\n",
    "tfidf_pd.drop(tfidf_pd.columns.difference(vertical_stack.columns[np.argsort(chi2score[0])[::-1]][:2500]),1)"
   ]
  },
  {
   "cell_type": "code",
   "execution_count": null,
   "metadata": {},
   "outputs": [],
   "source": []
  }
 ],
 "metadata": {
  "kernelspec": {
   "display_name": "Python 3",
   "language": "python",
   "name": "python3"
  },
  "language_info": {
   "codemirror_mode": {
    "name": "ipython",
    "version": 3
   },
   "file_extension": ".py",
   "mimetype": "text/x-python",
   "name": "python",
   "nbconvert_exporter": "python",
   "pygments_lexer": "ipython3",
   "version": "3.7.4"
  }
 },
 "nbformat": 4,
 "nbformat_minor": 2
}
